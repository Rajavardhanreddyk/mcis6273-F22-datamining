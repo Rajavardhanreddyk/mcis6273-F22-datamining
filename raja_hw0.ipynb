{
  "metadata": {
    "language_info": {
      "name": ""
    },
    "kernelspec": {
      "name": "",
      "display_name": ""
    }
  },
  "nbformat_minor": 4,
  "nbformat": 4,
  "cells": [
    {
      "cell_type": "code",
      "source": "Assignment 0\n\nZotero Username : raja01921\n\nZotero Mail : RKanakanala2907@muleriders.saumag.edu\n\nQuestion 1\n\n1)List 3 things that you learned from this podcast?\n\nOverall, the Talk Python podcast was quite educational. The following is a list of what I learned from the podcast:\n\nAdam outlined the beneficial effects that Jupyter notebook and Github have had on the data business. It was quite useful to be aware of this. Particularly when Github's applications reach beyond academia\n\n\nThe computational notebooks provide the computational narrative in a correct manner utilizing a cell-by-cell description in the notebook.\n\nOverall, the Talk Python podcast was quite educational. The following is a list of what I learned from the podcast:\n\nAdam outlined the beneficial effects that Jupyter notebook and Github have had on the data business. It was quite useful to be aware of this. Particularly when Github's applications reach beyond academia\n\n\nThe computational notebooks provide the computational narrative in a correct manner utilizing a cell-by-cell description in the notebook.\n\nQuestion 2\n\n2)What is your reaction to the podcast? Pick at least one point Adam brought up in the interview that you agree with and list your reason why\n\n\nIt is really true what he says on the audio when he says, \"It is intriguing that, You get to develop stuff that is conceptual but it runs.\" Despite the fact that this place is somewhat virtual, you still get to make stuff. But this would take it to another level. If you grasp the things at a deeper level, they are really correct. I totally believe that we have the ability to create meaningful, if virtual, things.\n\nQuestion 3\n\n3) After listening to the podcast, do you think you are more interested or less interested in learning from Jupyter notebooks on Github?\n\n\nJupyter notebook, in my opinion, is the ideal approach for any learner to begin this amazing trip in its beginning stages. I'm eager to work on Github and notebooks.\n\n\n\n",
      "metadata": {},
      "execution_count": null,
      "outputs": []
    },
    {
      "cell_type": "code",
      "source": "",
      "metadata": {},
      "execution_count": null,
      "outputs": []
    }
  ]
}
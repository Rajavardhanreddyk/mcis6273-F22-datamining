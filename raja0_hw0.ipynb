# Assignment 0

# Zotero Username : raja01921

# Zotero Mail : RKanakanala2907@muleriders.saumag.edu

# Question 1

# 1)List 3 things that you learned from this podcast?

Overall, the Talk Python podcast was quite educational. The following is a list of what I learned from the podcast:

* Adam outlined the beneficial effects that Jupyter notebook and Github have had on the data business. It was quite useful to be aware of this. Particularly when Github's applications reach beyond academia


* The computational notebooks provide the computational narrative in a correct manner utilizing a cell-by-cell description in the notebook.

* It is amazing to see how data science can be used to so many other fields, and how using notebooks has improved its utility for students.


# 2)What is your reaction to the podcast? Pick at least one point Adam brought up in the interview that you agree with and list your reason why


* It is really true what he says on the audio when he says, "It is intriguing that, You get to develop stuff that is conceptual but it runs." Despite the fact that this place is somewhat virtual, you still get to make stuff. But this would take it to another level. If you grasp the things at a deeper level, they are really correct. I totally believe that we have the ability to create meaningful, if virtual, things.

# Question 3

# 3) After listening to the podcast, do you think you are more interested or less interested in learning from Jupyter notebooks on Github?


* Jupyter notebook, in my opinion, is the ideal approach for any learner to begin this amazing trip in its beginning stages. I'm eager to work on Github and notebooks.



